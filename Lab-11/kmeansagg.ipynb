{
 "cells": [
  {
   "cell_type": "code",
   "execution_count": 5,
   "metadata": {},
   "outputs": [],
   "source": [
    "import numpy as np\n",
    "import pandas as pd\n",
    "import matplotlib.pyplot as plt\n",
    "import scipy.cluster.hierarchy as sch"
   ]
  },
  {
   "cell_type": "code",
   "execution_count": 18,
   "metadata": {},
   "outputs": [],
   "source": [
    "data_points = np.array([18, 22, 25, 27, 42, 43]).reshape(-1, 1)"
   ]
  },
  {
   "cell_type": "code",
   "execution_count": 19,
   "metadata": {},
   "outputs": [],
   "source": [
    "def compute_proximity(data):\n",
    "    n = len(data)\n",
    "    mat = np.zeros((n,n))\n",
    "    for i in range(n):\n",
    "        for j in range(i+1, n):\n",
    "            mat[i, j] = abs(data[i]-data[j])\n",
    "            mat[j, i] = mat[i, j]\n",
    "    \n",
    "    return mat"
   ]
  },
  {
   "cell_type": "code",
   "execution_count": 20,
   "metadata": {},
   "outputs": [],
   "source": [
    "def print_proximity(matrix, iteration):\n",
    "    print(f'\\nProximity Matrix at iteration : {iteration}')\n",
    "    print(matrix)"
   ]
  },
  {
   "cell_type": "code",
   "execution_count": 24,
   "metadata": {},
   "outputs": [],
   "source": [
    "def single_linkage(data):\n",
    "    clusters = [[point] for point in data]\n",
    "    mat = compute_proximity(data)\n",
    "    n = len(clusters)\n",
    "\n",
    "    merges = []\n",
    "    distances = []\n",
    "    cluster_sizes = [1] * len(data_points)\n",
    "\n",
    "    while len(clusters)>1:\n",
    "        min_dist = np.inf\n",
    "        min_i, min_j = -1, -1\n",
    "        for i in range(n):\n",
    "            for j in range(i+1, n):\n",
    "                if mat[i, j]<min_dist and mat[i, j]>0:\n",
    "                    min_dist = mat[i, j]\n",
    "                    min_i, min_j = i, j\n",
    "\n",
    "        merges.append((min_i, min_j))\n",
    "        distances.append(min_dist)\n",
    "\n",
    "        new_cluster = clusters[min_i]+clusters[min_j]\n",
    "        new_cluster_size = cluster_sizes[min_i] + cluster_sizes[min_j]\n",
    "        clusters[min_i] = new_cluster\n",
    "        cluster_sizes[min_i] = new_cluster_size\n",
    "\n",
    "        clusters.pop(min_j)\n",
    "        cluster_sizes.pop(min_j)\n",
    "\n",
    "        mat = np.delete(mat, min_j, axis=0)\n",
    "        mat = np.delete(mat, min_j, axis=1)\n",
    "\n",
    "        for k in range(len(clusters)):\n",
    "            if k!=min_i:\n",
    "                new_distance = min([abs(p1-p2) for p1 in new_cluster for p2 in clusters[k]])\n",
    "                mat[min_i, k] = new_distance\n",
    "                mat[k, min_i] = new_distance\n",
    "        \n",
    "        print_proximity(mat, n-len(clusters))\n",
    "\n",
    "        n-=1"
   ]
  },
  {
   "cell_type": "code",
   "execution_count": 25,
   "metadata": {},
   "outputs": [
    {
     "name": "stdout",
     "output_type": "stream",
     "text": [
      "\n",
      "Proximity Matrix at iteration : 1\n",
      "[[ 0.  4.  7.  9. 24.]\n",
      " [ 4.  0.  3.  5. 20.]\n",
      " [ 7.  3.  0.  2. 17.]\n",
      " [ 9.  5.  2.  0. 15.]\n",
      " [24. 20. 17. 15.  0.]]\n",
      "\n",
      "Proximity Matrix at iteration : 1\n",
      "[[ 0.  4.  7. 24.]\n",
      " [ 4.  0.  3. 20.]\n",
      " [ 7.  3.  0. 15.]\n",
      " [24. 20. 15.  0.]]\n",
      "\n",
      "Proximity Matrix at iteration : 1\n",
      "[[ 0.  4. 24.]\n",
      " [ 4.  0. 15.]\n",
      " [24. 15.  0.]]\n",
      "\n",
      "Proximity Matrix at iteration : 1\n",
      "[[ 0. 15.]\n",
      " [15.  0.]]\n",
      "\n",
      "Proximity Matrix at iteration : 1\n",
      "[[0.]]\n"
     ]
    },
    {
     "name": "stderr",
     "output_type": "stream",
     "text": [
      "C:\\Users\\ROG\\AppData\\Local\\Temp\\ipykernel_34460\\427359707.py:6: DeprecationWarning: Conversion of an array with ndim > 0 to a scalar is deprecated, and will error in future. Ensure you extract a single element from your array before performing this operation. (Deprecated NumPy 1.25.)\n",
      "  mat[i, j] = abs(data[i]-data[j])\n",
      "C:\\Users\\ROG\\AppData\\Local\\Temp\\ipykernel_34460\\3476519745.py:36: DeprecationWarning: Conversion of an array with ndim > 0 to a scalar is deprecated, and will error in future. Ensure you extract a single element from your array before performing this operation. (Deprecated NumPy 1.25.)\n",
      "  mat[min_i, k] = new_distance\n",
      "C:\\Users\\ROG\\AppData\\Local\\Temp\\ipykernel_34460\\3476519745.py:37: DeprecationWarning: Conversion of an array with ndim > 0 to a scalar is deprecated, and will error in future. Ensure you extract a single element from your array before performing this operation. (Deprecated NumPy 1.25.)\n",
      "  mat[k, min_i] = new_distance\n"
     ]
    },
    {
     "data": {
      "image/png": "[encoded data removed]",
      "text/plain": [
       "<Figure size 1000x500 with 1 Axes>"
      ]
     },
     "metadata": {},
     "output_type": "display_data"
    }
   ],
   "source": [
    "from scipy.cluster.hierarchy import dendrogram, linkage\n",
    "\n",
    "# Plot the dendrogram using scipy\n",
    "single_linkage(data_points)\n",
    "linkage_matrix = linkage(data_points, method='single')\n",
    "plt.figure(figsize=(10, 5))\n",
    "dendrogram(linkage_matrix, labels=[str(x) for x in data_points.flatten()])\n",
    "plt.title('Dendrogram - Agglomerative Hierarchical Clustering (Single Linkage)')\n",
    "plt.xlabel('Data Points')\n",
    "plt.ylabel('Distance')\n",
    "plt.show()"
   ]
  },
  {
   "cell_type": "code",
   "execution_count": null,
   "metadata": {},
   "outputs": [],
   "source": []
  }
 ],
 "metadata": {
  "kernelspec": {
   "display_name": "Python 3",
   "language": "python",
   "name": "python3"
  },
  "language_info": {
   "codemirror_mode": {
    "name": "ipython",
    "version": 3
   },
   "file_extension": ".py",
   "mimetype": "text/x-python",
   "name": "python",
   "nbconvert_exporter": "python",
   "pygments_lexer": "ipython3",
   "version": "3.12.0"
  }
 },
 "nbformat": 4,
 "nbformat_minor": 2
}
