{
 "cells": [
  {
   "cell_type": "code",
   "execution_count": 16,
   "metadata": {},
   "outputs": [],
   "source": [
    "import numpy as np\n",
    "import pandas as pd\n",
    "import matplotlib.pyplot as plt"
   ]
  },
  {
   "cell_type": "code",
   "execution_count": 17,
   "metadata": {},
   "outputs": [],
   "source": [
    "def euclidean(a, b):\n",
    "    return np.sqrt((a['weight']-b['weight'])**2 + (a['sweetness']-b['sweetness'])**2)\n",
    "\n",
    "def manhattan(a,b):\n",
    "    return abs(a['weight']-b['weight']) + abs(a['sweetness']-b['sweetness'])\n",
    "\n",
    "def minkowski(a,b, p=3):\n",
    "    return (abs(a['weight']-b['weight'])**p + abs(a['sweetness']-b['sweetness'])**p)**(1/p)"
   ]
  },
  {
   "cell_type": "code",
   "execution_count": 18,
   "metadata": {},
   "outputs": [],
   "source": [
    "def knn_classify(new_fruit, fruits, k=3):\n",
    "    distances = []\n",
    "    for fruit in fruits:\n",
    "        distances.append((euclidean(fruit, new_fruit), fruit['label']))\n",
    "    distances.sort(key = lambda x: x[0])\n",
    "    nearest_neighbours = distances[:k]\n",
    "    labels = [x[1] for x in nearest_neighbours]\n",
    "    return max(labels, key=labels.count)"
   ]
  },
  {
   "cell_type": "code",
   "execution_count": 19,
   "metadata": {},
   "outputs": [
    {
     "name": "stdout",
     "output_type": "stream",
     "text": [
      "The new fruit is Apple\n"
     ]
    }
   ],
   "source": [
    "fruits = [\n",
    "    {'id': 1, 'weight': 180, 'sweetness': 7, 'label': 'Apple'},\n",
    "    {'id': 2, 'weight': 200, 'sweetness': 6, 'label': 'Apple'},\n",
    "    {'id': 3, 'weight': 150, 'sweetness': 4, 'label': 'Orange'},\n",
    "    {'id': 4, 'weight': 170, 'sweetness': 5, 'label': 'Orange'},\n",
    "    {'id': 5, 'weight': 160, 'sweetness': 6, 'label': 'Apple'},\n",
    "    {'id': 6, 'weight': 140, 'sweetness': 3, 'label': 'Orange'}\n",
    "]\n",
    "\n",
    "new_fruit = {'weight': 165, 'sweetness': 5.5}\n",
    "\n",
    "label = knn_classify(new_fruit, fruits)\n",
    "print(f'The new fruit is {label}')"
   ]
  },
  {
   "cell_type": "code",
   "execution_count": 20,
   "metadata": {},
   "outputs": [
    {
     "name": "stdout",
     "output_type": "stream",
     "text": [
      "Fruit : 1\n",
      "Euclidean distance: 15.07\n",
      "Manhattan Distance : 16.50\n",
      "Minkowski Distance : 15.00\n",
      "Fruit : 2\n",
      "Euclidean distance: 35.00\n",
      "Manhattan Distance : 35.50\n",
      "Minkowski Distance : 35.00\n",
      "Fruit : 3\n",
      "Euclidean distance: 15.07\n",
      "Manhattan Distance : 16.50\n",
      "Minkowski Distance : 15.00\n",
      "Fruit : 4\n",
      "Euclidean distance: 5.02\n",
      "Manhattan Distance : 5.50\n",
      "Minkowski Distance : 5.00\n",
      "Fruit : 5\n",
      "Euclidean distance: 5.02\n",
      "Manhattan Distance : 5.50\n",
      "Minkowski Distance : 5.00\n",
      "Fruit : 6\n",
      "Euclidean distance: 25.12\n",
      "Manhattan Distance : 27.50\n",
      "Minkowski Distance : 25.01\n"
     ]
    }
   ],
   "source": [
    "for fruit in fruits:\n",
    "    print(f'Fruit : {fruit['id']}')\n",
    "    print(f'Euclidean distance: {euclidean(fruit, new_fruit):.2f}')\n",
    "    print(f'Manhattan Distance : {manhattan(fruit, new_fruit):.2f}')\n",
    "    print(f'Minkowski Distance : {minkowski(fruit, new_fruit):.2f}')"
   ]
  },
  {
   "cell_type": "code",
   "execution_count": 21,
   "metadata": {},
   "outputs": [
    {
     "data": {
      "image/png": "[encoded data removed]",
      "text/plain": [
       "<Figure size 640x480 with 1 Axes>"
      ]
     },
     "metadata": {},
     "output_type": "display_data"
    }
   ],
   "source": [
    "def plot_data():\n",
    "    for fruit in fruits:\n",
    "        if fruit['label']=='Apple':\n",
    "            plt.scatter(fruit['weight'], fruit['sweetness'], label=fruit['label'], marker='o', color='red')\n",
    "        elif fruit['label']=='Orange':\n",
    "            plt.scatter(fruit['weight'], fruit['sweetness'], label=fruit['label'], marker='o', color='orange')\n",
    "        plt.scatter(new_fruit['weight'], new_fruit['sweetness'], label=label, marker='x', color='blue')\n",
    "    plt.xlabel('Weight')\n",
    "    plt.ylabel('Sweetness')\n",
    "    plt.title('Fruits KNN')\n",
    "    plt.grid(True)\n",
    "    plt.show()\n",
    "\n",
    "plot_data()"
   ]
  },
  {
   "cell_type": "code",
   "execution_count": null,
   "metadata": {},
   "outputs": [],
   "source": []
  }
 ],
 "metadata": {
  "kernelspec": {
   "display_name": "Python 3",
   "language": "python",
   "name": "python3"
  },
  "language_info": {
   "codemirror_mode": {
    "name": "ipython",
    "version": 3
   },
   "file_extension": ".py",
   "mimetype": "text/x-python",
   "name": "python",
   "nbconvert_exporter": "python",
   "pygments_lexer": "ipython3",
   "version": "3.12.0"
  }
 },
 "nbformat": 4,
 "nbformat_minor": 2
}
