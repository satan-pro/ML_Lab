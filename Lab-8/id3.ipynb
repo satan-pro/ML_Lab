{
 "cells": [
  {
   "cell_type": "code",
   "execution_count": 1,
   "metadata": {},
   "outputs": [],
   "source": [
    "import math\n",
    "import numpy as np\n",
    "import pandas as pd\n",
    "import matplotlib.pyplot as plt"
   ]
  },
  {
   "cell_type": "code",
   "execution_count": 2,
   "metadata": {},
   "outputs": [],
   "source": [
    "def entropy(data, target_attr):\n",
    "    values = [row[target_attr] for row in data]\n",
    "    value_counts = {value: values.count(value) for value in set(values)}\n",
    "\n",
    "    ent = 0.0\n",
    "    for count in value_counts.values():\n",
    "        prob = count/len(data)\n",
    "        ent -=prob * math.log2(prob)\n",
    "\n",
    "    return ent"
   ]
  },
  {
   "cell_type": "code",
   "execution_count": 3,
   "metadata": {},
   "outputs": [],
   "source": [
    "def info_gain(data, target_attr, feature):\n",
    "    total_entropy = entropy(data, target_attr)\n",
    "\n",
    "    values = [row[feature] for row in data]\n",
    "    feature_values = set(values)\n",
    "\n",
    "    feature_entropy = 0.0\n",
    "    for value in feature_values:\n",
    "        subset = [row for row in data if row[feature]==value]\n",
    "        prob = len(subset)/len(data)\n",
    "        feature_entropy += prob * entropy(subset, target_attr)\n",
    "\n",
    "    return total_entropy - feature_entropy"
   ]
  },
  {
   "cell_type": "code",
   "execution_count": 4,
   "metadata": {},
   "outputs": [],
   "source": [
    "def id3(data, target_attr, features):\n",
    "    # Base Case : if all rows have same label then return that label\n",
    "    target_values = [row[target_attr] for row in data]\n",
    "    if target_values.count(target_values[0])==len(target_values):\n",
    "        return target_values[0]\n",
    "    \n",
    "    # Base Case : If there are no more features to split\n",
    "    if not features:\n",
    "        return max(target_values, key=target_values.count)\n",
    "    \n",
    "    gains = {feature: info_gain(data, target_attr, feature) for feature in features}\n",
    "    best_feature = max(gains, key=gains.get)\n",
    "\n",
    "    tree = {best_feature:{}}\n",
    "    features.remove(best_feature)\n",
    "\n",
    "    feature_values = set(row[best_feature] for row in data)\n",
    "    for value in feature_values:\n",
    "        subset = [row for row in data if row[best_feature]==value]\n",
    "        subtree = id3(subset, target_attr, features)\n",
    "        tree[best_feature][value] = subtree\n",
    "\n",
    "    return tree"
   ]
  },
  {
   "cell_type": "code",
   "execution_count": 5,
   "metadata": {},
   "outputs": [],
   "source": [
    "def predict(tree, sample):\n",
    "    if not isinstance(tree, dict):\n",
    "        return tree\n",
    "    \n",
    "    feature = next(iter(tree))\n",
    "    feature_value = sample.get(feature)\n",
    "    subtree = tree[feature].get(feature_value)\n",
    "\n",
    "    if subtree is None:\n",
    "        return None\n",
    "    return predict(subtree, sample)"
   ]
  },
  {
   "cell_type": "code",
   "execution_count": 6,
   "metadata": {},
   "outputs": [
    {
     "name": "stdout",
     "output_type": "stream",
     "text": [
      "Decision tree : {'Age': {65: 'Sick', 35: 'Healthy', 40: 'Sick', 45: 'Healthy', 50: 'Sick', 55: 'Healthy', 25: 'Healthy', 60: 'Sick', 30: 'Sick'}}\n",
      "Prediction for new patient:  Sick\n"
     ]
    }
   ],
   "source": [
    "data = [\n",
    "    {'Age': 30, 'Blood Pressure': 'High', 'Cholesterol': 'High', 'Diagnosis': 'Sick'},\n",
    "    {'Age': 45, 'Blood Pressure': 'Low', 'Cholesterol': 'Normal', 'Diagnosis': 'Healthy'},\n",
    "    {'Age': 50, 'Blood Pressure': 'High', 'Cholesterol': 'High', 'Diagnosis': 'Sick'},\n",
    "    {'Age': 35, 'Blood Pressure': 'Low', 'Cholesterol': 'Normal', 'Diagnosis': 'Healthy'},\n",
    "    {'Age': 60, 'Blood Pressure': 'High', 'Cholesterol': 'High', 'Diagnosis': 'Sick'},\n",
    "    {'Age': 55, 'Blood Pressure': 'Low', 'Cholesterol': 'Normal', 'Diagnosis': 'Healthy'},\n",
    "    {'Age': 40, 'Blood Pressure': 'High', 'Cholesterol': 'High', 'Diagnosis': 'Sick'},\n",
    "    {'Age': 25, 'Blood Pressure': 'Low', 'Cholesterol': 'Normal', 'Diagnosis': 'Healthy'},\n",
    "    {'Age': 65, 'Blood Pressure': 'High', 'Cholesterol': 'High', 'Diagnosis': 'Sick'},\n",
    "    {'Age': 45, 'Blood Pressure': 'Low', 'Cholesterol': 'Normal', 'Diagnosis': 'Healthy'}\n",
    "]\n",
    "\n",
    "target_attr = 'Diagnosis'\n",
    "features = ['Age', 'Blood Pressure', 'Cholesterol']\n",
    "\n",
    "tree = id3(data, target_attr, features)\n",
    "print(f'Decision tree : {tree}')\n",
    "\n",
    "new_patient = {'Age': 50, 'Blood Pressure': 'Low', 'Cholesterol': 'Normal'}\n",
    "prediction = predict(tree, new_patient)\n",
    "print('Prediction for new patient: ', prediction)"
   ]
  },
  {
   "cell_type": "code",
   "execution_count": null,
   "metadata": {},
   "outputs": [],
   "source": []
  }
 ],
 "metadata": {
  "kernelspec": {
   "display_name": "Python 3",
   "language": "python",
   "name": "python3"
  },
  "language_info": {
   "codemirror_mode": {
    "name": "ipython",
    "version": 3
   },
   "file_extension": ".py",
   "mimetype": "text/x-python",
   "name": "python",
   "nbconvert_exporter": "python",
   "pygments_lexer": "ipython3",
   "version": "3.12.0"
  }
 },
 "nbformat": 4,
 "nbformat_minor": 2
}
