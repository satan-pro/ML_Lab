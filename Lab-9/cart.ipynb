{
 "cells": [
  {
   "cell_type": "code",
   "execution_count": 1,
   "metadata": {},
   "outputs": [],
   "source": [
    "import numpy as np\n",
    "import pandas as pd\n",
    "import math"
   ]
  },
  {
   "cell_type": "code",
   "execution_count": 2,
   "metadata": {},
   "outputs": [],
   "source": [
    "def gini_impurity(data, target_attr):\n",
    "    values = [row[target_attr] for row in data]\n",
    "    value_counts = {value: values.count(value) for value in set(values)}\n",
    "\n",
    "    gini = 1.0\n",
    "    for count in value_counts.values():\n",
    "        prob = count/len(data)\n",
    "        gini -= prob**2\n",
    "\n",
    "    return gini"
   ]
  },
  {
   "cell_type": "code",
   "execution_count": 3,
   "metadata": {},
   "outputs": [],
   "source": [
    "def gini_gain(data, target_attr, feature):\n",
    "    total_gini = gini_impurity(data, target_attr)\n",
    "\n",
    "    values = set(row[feature] for row in data)\n",
    "\n",
    "    weighted_gini = 0.0\n",
    "    for value in values:\n",
    "        subset = [row for row in data if row[feature]==value]\n",
    "        prob = len(subset)/len(data)\n",
    "        weighted_gini += prob*gini_impurity(subset, target_attr)\n",
    "\n",
    "    return total_gini - weighted_gini\n",
    "    "
   ]
  },
  {
   "cell_type": "code",
   "execution_count": 4,
   "metadata": {},
   "outputs": [],
   "source": [
    "def best_feature(data, target_attr, features):\n",
    "    gini_gains = {feature: gini_gain(data, target_attr, feature) for feature in features}\n",
    "    best_feature = max(gini_gains, key=gini_gains.get)\n",
    "    return best_feature"
   ]
  },
  {
   "cell_type": "code",
   "execution_count": 5,
   "metadata": {},
   "outputs": [],
   "source": [
    "def cart_tree(data, target_attr, features):\n",
    "    target_values = [row[target_attr] for row in data]\n",
    "    if target_values.count(target_values[0])==len(target_values):\n",
    "        return target_values[0]\n",
    "    \n",
    "    if not features:\n",
    "        return max(set(target_values), key=target_values.count)\n",
    "    \n",
    "    best = best_feature(data, target_attr, features)\n",
    "\n",
    "    tree = {best:{}}\n",
    "    features.remove(best)\n",
    "\n",
    "    feature_values = set(row[best] for row in data)\n",
    "    for value in feature_values:\n",
    "        subset = [row for row in data if row[best]==value]\n",
    "        subtree = cart_tree(subset, target_attr, features)\n",
    "        tree[best][value] = subtree\n",
    "\n",
    "    return tree"
   ]
  },
  {
   "cell_type": "code",
   "execution_count": 6,
   "metadata": {},
   "outputs": [],
   "source": [
    "def predict(tree, sample):\n",
    "    if not isinstance(tree, dict):\n",
    "        return tree\n",
    "    \n",
    "    feature = next(iter(tree))\n",
    "    feature_value = sample[feature]\n",
    "    subtree = tree[feature][feature_value]\n",
    "\n",
    "    if subtree is None:\n",
    "        return None\n",
    "    return predict(subtree, sample)"
   ]
  },
  {
   "cell_type": "code",
   "execution_count": 7,
   "metadata": {},
   "outputs": [
    {
     "name": "stdout",
     "output_type": "stream",
     "text": [
      "Decision Tree : {'Temp.': {64: 'Yes', 65: 'No', 68: 'Yes', 69: 'Yes', 70: 'Yes', 71: 'No', 72: {'Outlook': {'Sunny': 'No', 'Overcast': 'Yes'}}, 75: 'Yes', 80: 'No', 81: 'Yes', 83: 'Yes', 85: 'No'}}\n",
      "Prediction: Yes\n"
     ]
    }
   ],
   "source": [
    "data = [\n",
    "    {'Outlook': 'Sunny', 'Temp.': 85, 'Humidity': 85, 'Wind': 'Weak', 'Decision': 'No'},\n",
    "    {'Outlook': 'Sunny', 'Temp.': 80, 'Humidity': 90, 'Wind': 'Strong', 'Decision': 'No'},\n",
    "    {'Outlook': 'Overcast', 'Temp.': 83, 'Humidity': 78, 'Wind': 'Weak', 'Decision': 'Yes'},\n",
    "    {'Outlook': 'Rain', 'Temp.': 70, 'Humidity': 96, 'Wind': 'Weak', 'Decision': 'Yes'},\n",
    "    {'Outlook': 'Rain', 'Temp.': 68, 'Humidity': 80, 'Wind': 'Weak', 'Decision': 'Yes'},\n",
    "    {'Outlook': 'Rain', 'Temp.': 65, 'Humidity': 70, 'Wind': 'Strong', 'Decision': 'No'},\n",
    "    {'Outlook': 'Overcast', 'Temp.': 64, 'Humidity': 65, 'Wind': 'Strong', 'Decision': 'Yes'},\n",
    "    {'Outlook': 'Sunny', 'Temp.': 72, 'Humidity': 95, 'Wind': 'Weak', 'Decision': 'No'},\n",
    "    {'Outlook': 'Sunny', 'Temp.': 69, 'Humidity': 70, 'Wind': 'Weak', 'Decision': 'Yes'},\n",
    "    {'Outlook': 'Rain', 'Temp.': 75, 'Humidity': 80, 'Wind': 'Weak', 'Decision': 'Yes'},\n",
    "    {'Outlook': 'Sunny', 'Temp.': 75, 'Humidity': 70, 'Wind': 'Strong', 'Decision': 'Yes'},\n",
    "    {'Outlook': 'Overcast', 'Temp.': 72, 'Humidity': 90, 'Wind': 'Strong', 'Decision': 'Yes'},\n",
    "    {'Outlook': 'Overcast', 'Temp.': 81, 'Humidity': 75, 'Wind': 'Weak', 'Decision': 'Yes'},\n",
    "    {'Outlook': 'Rain', 'Temp.': 71, 'Humidity': 80, 'Wind': 'Strong', 'Decision': 'No'}\n",
    "]\n",
    "\n",
    "target_attr = 'Decision'\n",
    "features = ['Outlook', 'Temp.', 'Humidity', 'Wind']\n",
    "\n",
    "cart_model = cart_tree(data, target_attr, features)\n",
    "print(f'Decision Tree : {cart_model}')\n",
    "\n",
    "new_sample = {'Outlook': 'Sunny', 'Temp.': 75, 'Humidity': 70, 'Wind': 'weak'}\n",
    "preds = predict(cart_model, new_sample)\n",
    "\n",
    "print(f'Prediction: {preds}')"
   ]
  },
  {
   "cell_type": "code",
   "execution_count": null,
   "metadata": {},
   "outputs": [],
   "source": []
  }
 ],
 "metadata": {
  "kernelspec": {
   "display_name": "Python 3",
   "language": "python",
   "name": "python3"
  },
  "language_info": {
   "codemirror_mode": {
    "name": "ipython",
    "version": 3
   },
   "file_extension": ".py",
   "mimetype": "text/x-python",
   "name": "python",
   "nbconvert_exporter": "python",
   "pygments_lexer": "ipython3",
   "version": "3.12.0"
  }
 },
 "nbformat": 4,
 "nbformat_minor": 2
}
